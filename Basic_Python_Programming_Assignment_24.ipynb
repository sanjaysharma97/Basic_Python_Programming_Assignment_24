{
 "cells": [
  {
   "cell_type": "markdown",
   "id": "3d01bb39",
   "metadata": {},
   "source": [
    "# Question1 Create a function that takes an integer and returns a list from 1 to the given number, where:\n",
    "1. If the number can be divided evenly by 4, amplify it by 10 (i.e. return 10 times the\n",
    "number).\n",
    "2. If the number cannot be divided evenly by 4, simply return the number.\n",
    "Examples\n",
    "amplify(4) ➞ [1, 2, 3, 40]\n",
    "amplify(3) ➞ [1, 2, 3]\n",
    "amplify(25) ➞ [1, 2, 3, 40, 5, 6, 7, 80, 9, 10, 11, 120, 13, 14, 15, 160,\n",
    "17, 18, 19, 200, 21, 22, 23, 240, 25]\n",
    "Notes\n",
    " The given integer will always be equal to or greater than 1.\n",
    " Include the number (see example above).\n",
    " To perform this problem with its intended purpose, try doing it with list\n",
    "comprehensions. If that's too difficult, just solve the challenge any way you can.\n",
    "\n",
    "ANSWER-"
   ]
  },
  {
   "cell_type": "code",
   "execution_count": 1,
   "id": "8e514bae",
   "metadata": {},
   "outputs": [
    {
     "name": "stdout",
     "output_type": "stream",
     "text": [
      "enter a number:  4\n",
      "(4)->  [1, 2, 3, 40]\n",
      "enter a number:  3\n",
      "(3)->  [1, 2, 3]\n",
      "enter a number:  25\n",
      "(25)->  [1, 2, 3, 40, 5, 6, 7, 80, 9, 10, 11, 120, 13, 14, 15, 160, 17, 18, 19, 200, 21, 22, 23, 240, 25]\n",
      "enter a number:  8\n",
      "(8)->  [1, 2, 3, 40, 5, 6, 7, 80]\n"
     ]
    }
   ],
   "source": [
    "def amplify(num):\n",
    "    out_lst=[]\n",
    "    for i in range(1,num+1):\n",
    "        if i%4==0:\n",
    "            out_lst.append(i*10)\n",
    "        else:\n",
    "            out_lst.append(i)\n",
    "    print(f'({num})->  {out_lst}')\n",
    "    \n",
    "for j in range(4):\n",
    "    n=int(input(\"enter a number:  \"))\n",
    "    amplify(n)\n",
    "    \n",
    "    "
   ]
  },
  {
   "cell_type": "markdown",
   "id": "0242dd86",
   "metadata": {},
   "source": [
    "# Question2 Create a function that takes a list of numbers and return the number that's unique.\n",
    "Examples\n",
    "unique([3, 3, 3, 7, 3, 3]) ➞ 7\n",
    "unique([0, 0, 0.77, 0, 0]) ➞ 0.77\n",
    "unique([0, 1, 1, 1, 1, 1, 1, 1]) ➞ 0\n",
    "Notes\n",
    "Test cases will always have exactly one unique number while all others are the same.\n",
    "\n",
    "ANSWER-"
   ]
  },
  {
   "cell_type": "code",
   "execution_count": 2,
   "id": "9bcb0884",
   "metadata": {},
   "outputs": [
    {
     "name": "stdout",
     "output_type": "stream",
     "text": [
      "enter a list: 3 3 3 7 3 3\n",
      "([3, 3, 3, 7, 3, 3]) -> 7\n",
      "enter a list: 0 0 0.77 0 0\n",
      "([0, 0, 0.77, 0, 0]) -> 0.77\n",
      "enter a list: 0 1 1 1 1 1 1 1\n",
      "([0, 1, 1, 1, 1, 1, 1, 1]) -> 0\n",
      "enter a list: 9 8 9 8 7 8 9\n",
      "([9, 8, 9, 8, 7, 8, 9]) -> 7\n"
     ]
    }
   ],
   "source": [
    "def unique(lst):\n",
    "    num=''\n",
    "    for i in set(lst):\n",
    "        if lst.count(i)==1:\n",
    "            num=i\n",
    "    print(f'({lst}) -> {num}')\n",
    "    \n",
    "for i in range(4):\n",
    "    l=input(\"enter a list: \")\n",
    "    L=[eval(j) for j in l.split()]\n",
    "    unique(L)"
   ]
  },
  {
   "cell_type": "markdown",
   "id": "6a7fcaba",
   "metadata": {},
   "source": [
    "# Question3 Your task is to create a Circle constructor that creates a circle with a radius provided by an argument. The circles constructed must have two getters getArea() (PIr^2) and getPerimeter() (2PI*r) which give both respective areas and perimeter (circumference).\n",
    "\n",
    "For help with this class, I have provided you with a Rectangle constructor which you can use\n",
    "as a base example.\n",
    "Examples\n",
    "circy = Circle(11)\n",
    "circy.getArea()\n",
    "# Should return 380.132711084365\n",
    "circy = Circle(4.44)\n",
    "circy.getPerimeter()\n",
    "# Should return 27.897342763877365\n",
    "Notes\n",
    "Round results up to the nearest integer.\n",
    "\n",
    "ANSWER-"
   ]
  },
  {
   "cell_type": "code",
   "execution_count": 3,
   "id": "f7d89f0e",
   "metadata": {},
   "outputs": [
    {
     "name": "stdout",
     "output_type": "stream",
     "text": [
      "Radius ➞ 380\n",
      "Perimeter ➞ 28\n"
     ]
    }
   ],
   "source": [
    "import math\n",
    "\n",
    "class Circle:\n",
    "    def __init__(self, radius):\n",
    "        self.radius = radius\n",
    "    def getArea(self):\n",
    "        print(f'Radius ➞ {round(math.pi*self.radius*self.radius)}')\n",
    "    def getPerimeter(self):\n",
    "        print(f'Perimeter ➞ {round(2*math.pi*self.radius)}')\n",
    "    \n",
    "circy = Circle(11)\n",
    "circy.getArea()\n",
    "\n",
    "circy = Circle(4.44)\n",
    "circy.getPerimeter()\n"
   ]
  },
  {
   "cell_type": "markdown",
   "id": "2769c4b9",
   "metadata": {},
   "source": [
    "# Question4 Create a function that takes a list of strings and return a list, sorted from shortest to longest.\n",
    "Examples\n",
    "sort_by_length(['Google\", \"Apple\", \"Microsoft\"])\n",
    "➞ [\"Apple\", \"Google\", \"Microsoft\"]\n",
    "sort_by_length([\"Leonardo\", \"Michelangelo\", 'Raphael\", \"Donatello\"])\n",
    "➞ [\"Raphael\", \"Leonardo\", \"Donatello\", \"Michelangelo\"]\n",
    "sort_by_length([\"Turing\", \"Einstein\", \"Jung\"])\n",
    "➞ [\"Jung\", \"Turing\", \"Einstein\"]\n",
    "Notes\n",
    "All test cases contain lists with strings of different lengths, so you won&#39;t have to deal with\n",
    "multiple strings of the same length.\n",
    "\n",
    "ANSWER-"
   ]
  },
  {
   "cell_type": "code",
   "execution_count": 1,
   "id": "049c7117",
   "metadata": {},
   "outputs": [
    {
     "name": "stdout",
     "output_type": "stream",
     "text": [
      "enter a list of string: Google Apple Microsoft\n",
      "['Google', 'Apple', 'Microsoft'] -> ['Apple', 'Google', 'Microsoft']\n",
      "enter a list of string: Leonardo Michelangelo Raphael\n",
      "['Leonardo', 'Michelangelo', 'Raphael'] -> ['Raphael', 'Leonardo', 'Michelangelo']\n",
      "enter a list of string: Turing Einstein Jung\n",
      "['Turing', 'Einstein', 'Jung'] -> ['Jung', 'Turing', 'Einstein']\n",
      "enter a list of string: Ineuron Sudhanshu Krish Sunny\n",
      "['Ineuron', 'Sudhanshu', 'Krish', 'Sunny'] -> ['Krish', 'Sunny', 'Ineuron', 'Sudhanshu']\n"
     ]
    }
   ],
   "source": [
    "def sort_by_length(lst):\n",
    "    print(f'{lst} -> {sorted(lst,key=len)}')\n",
    "    \n",
    "for i in range(4):\n",
    "    l=input(\"enter a list of string: \")\n",
    "    L=[str(j) for j in l.split()]\n",
    "    sort_by_length(L)"
   ]
  },
  {
   "cell_type": "markdown",
   "id": "1628cf1a",
   "metadata": {},
   "source": [
    "# Question5 Create a function that validates whether three given integers form a Pythagorean triplet. The sum of the squares of the two smallest integers must equal the square of the largest number to be validated.\n",
    "\n",
    "Examples\n",
    "is_triplet(3, 4, 5) ➞ True\n",
    "# 3² + 4² = 25\n",
    "# 5² = 25\n",
    "is_triplet(13, 5, 12) ➞ True\n",
    "# 5² + 12² = 169\n",
    "# 13² = 169\n",
    "is_triplet(1, 2, 3) ➞ False\n",
    "# 1² + 2² = 5\n",
    "# 3² = 9\n",
    "Notes\n",
    "Numbers may not be given in a sorted order.\n",
    "\n",
    "ANSWER-"
   ]
  },
  {
   "cell_type": "code",
   "execution_count": 2,
   "id": "d8a52907",
   "metadata": {},
   "outputs": [
    {
     "name": "stdout",
     "output_type": "stream",
     "text": [
      "enter a number one: 3\n",
      "enter a number two: 4\n",
      "enter a number three: 5\n",
      " -> True\n",
      "enter a number one: 13\n",
      "enter a number two: 5\n",
      "enter a number three: 12\n",
      " -> True\n",
      "enter a number one: 1\n",
      "enter a number two: 2\n",
      "enter a number three: 3\n",
      " -> False\n",
      "enter a number one: 10\n",
      "enter a number two: 5\n",
      "enter a number three: 4\n",
      " -> False\n"
     ]
    }
   ],
   "source": [
    "def is_triplet(n1,n2,n3):\n",
    "    if (n1**2+n2**2)==(n3**2):\n",
    "        print(f' -> {True}')\n",
    "    elif (n1**2+n3**2)==(n2**2):\n",
    "        print(f' -> {True}')\n",
    "    elif (n2**2+n3**2)==(n1**2):\n",
    "        print(f' -> {True}')\n",
    "    else:\n",
    "        print(f' -> {False}')\n",
    "        \n",
    "for i in range(4):\n",
    "    num1=int(input(\"enter a number one: \"))\n",
    "    num2=int(input(\"enter a number two: \"))\n",
    "    num3=int(input(\"enter a number three: \"))\n",
    "    is_triplet(num1,num2,num3)"
   ]
  },
  {
   "cell_type": "code",
   "execution_count": null,
   "id": "cacdcab5",
   "metadata": {},
   "outputs": [],
   "source": []
  }
 ],
 "metadata": {
  "kernelspec": {
   "display_name": "Python 3 (ipykernel)",
   "language": "python",
   "name": "python3"
  },
  "language_info": {
   "codemirror_mode": {
    "name": "ipython",
    "version": 3
   },
   "file_extension": ".py",
   "mimetype": "text/x-python",
   "name": "python",
   "nbconvert_exporter": "python",
   "pygments_lexer": "ipython3",
   "version": "3.9.12"
  }
 },
 "nbformat": 4,
 "nbformat_minor": 5
}
